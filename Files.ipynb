{
  "nbformat": 4,
  "nbformat_minor": 0,
  "metadata": {
    "colab": {
      "name": "Files.ipynb",
      "provenance": [],
      "authorship_tag": "ABX9TyOPOEGgybNubG+zPBP4IIC6",
      "include_colab_link": true
    },
    "kernelspec": {
      "name": "python3",
      "display_name": "Python 3"
    },
    "language_info": {
      "name": "python"
    }
  },
  "cells": [
    {
      "cell_type": "markdown",
      "metadata": {
        "id": "view-in-github",
        "colab_type": "text"
      },
      "source": [
        "<a href=\"https://colab.research.google.com/github/dsdnmstf/Python-Questions/blob/master/Files.ipynb\" target=\"_parent\"><img src=\"https://colab.research.google.com/assets/colab-badge.svg\" alt=\"Open In Colab\"/></a>"
      ]
    },
    {
      "cell_type": "code",
      "execution_count": 1,
      "metadata": {
        "colab": {
          "base_uri": "https://localhost:8080/",
          "height": 36
        },
        "id": "ye-wfV0zcti_",
        "outputId": "437bb9ce-1d79-4e10-f3b6-6d04fabb3ecc"
      },
      "outputs": [
        {
          "output_type": "execute_result",
          "data": {
            "application/vnd.google.colaboratory.intrinsic+json": {
              "type": "string"
            },
            "text/plain": [
              "'/content'"
            ]
          },
          "metadata": {},
          "execution_count": 1
        }
      ],
      "source": [
        "pwd"
      ]
    },
    {
      "cell_type": "code",
      "source": [
        "file = open(\"fishes.txt\", \"r\", encoding=\"utf-8\")\n",
        "print(file.read(33))\n",
        "file.close()"
      ],
      "metadata": {
        "colab": {
          "base_uri": "https://localhost:8080/"
        },
        "id": "z1H10Mv7cuuS",
        "outputId": "75777dc5-ed06-49d5-ccf2-a6e80008cca8"
      },
      "execution_count": 11,
      "outputs": [
        {
          "output_type": "stream",
          "name": "stdout",
          "text": [
            "Orca is a kind of Dolphin.\n",
            "Blue W\n"
          ]
        }
      ]
    },
    {
      "cell_type": "code",
      "source": [
        "file = open(\"fishes.txt\", \"r\", encoding=\"utf-8\")\n",
        "print(file.read())\n",
        "file.close()"
      ],
      "metadata": {
        "id": "4ZEdrUgCh05R"
      },
      "execution_count": null,
      "outputs": []
    },
    {
      "cell_type": "code",
      "source": [
        "file = open(\"fishes.txt\", \"r\", encoding=\"utf-8\")\n",
        "content = file.read()\n",
        "file.close()\n",
        "content"
      ],
      "metadata": {
        "colab": {
          "base_uri": "https://localhost:8080/",
          "height": 54
        },
        "id": "HtO1YK9Nfizo",
        "outputId": "71a74ebe-bb3c-4fb8-f752-c5f68c678376"
      },
      "execution_count": 3,
      "outputs": [
        {
          "output_type": "execute_result",
          "data": {
            "application/vnd.google.colaboratory.intrinsic+json": {
              "type": "string"
            },
            "text/plain": [
              "'Orca is a kind of Dolphin.\\nBlue Whale is the largest animal known on earth.\\nSharks are the sister group to the Rays (batoids).\\nThe Tuna Fish can weigh up to 260 kg.\\nSquid and Octopus are in the same class.'"
            ]
          },
          "metadata": {},
          "execution_count": 3
        }
      ]
    },
    {
      "cell_type": "code",
      "source": [
        "len(content)"
      ],
      "metadata": {
        "colab": {
          "base_uri": "https://localhost:8080/"
        },
        "id": "vuA-WvdEh6AK",
        "outputId": "69bf9698-4191-4be2-fa06-41f9bb970133"
      },
      "execution_count": 12,
      "outputs": [
        {
          "output_type": "execute_result",
          "data": {
            "text/plain": [
              "205"
            ]
          },
          "metadata": {},
          "execution_count": 12
        }
      ]
    },
    {
      "cell_type": "code",
      "source": [
        "content[:33]"
      ],
      "metadata": {
        "colab": {
          "base_uri": "https://localhost:8080/",
          "height": 36
        },
        "id": "67ECjU4yh593",
        "outputId": "beef1d1c-69d5-468f-8423-269f19b702cb"
      },
      "execution_count": 14,
      "outputs": [
        {
          "output_type": "execute_result",
          "data": {
            "application/vnd.google.colaboratory.intrinsic+json": {
              "type": "string"
            },
            "text/plain": [
              "'Orca is a kind of Dolphin.\\nBlue W'"
            ]
          },
          "metadata": {},
          "execution_count": 14
        }
      ]
    },
    {
      "cell_type": "code",
      "source": [
        "file = open(\"fishes.txt\", \"r\", encoding=\"utf-8\")\n",
        "print(file.read(33))\n",
        "print(file.read(33))\n",
        "file.close()"
      ],
      "metadata": {
        "colab": {
          "base_uri": "https://localhost:8080/"
        },
        "id": "YJIikBMnh57c",
        "outputId": "3c4c13df-3d6e-4086-a541-ab9b5b34ac2d"
      },
      "execution_count": 15,
      "outputs": [
        {
          "output_type": "stream",
          "name": "stdout",
          "text": [
            "Orca is a kind of Dolphin.\n",
            "Blue W\n",
            "hale is the largest animal known \n"
          ]
        }
      ]
    },
    {
      "cell_type": "code",
      "source": [
        "print(file.read(33))\n",
        "print(file.read(15))\n",
        "print(file.tell())\n",
        "\n",
        "file.seek(0)\n",
        "\n",
        "print()"
      ],
      "metadata": {
        "id": "1rjFudCrh547"
      },
      "execution_count": null,
      "outputs": []
    },
    {
      "cell_type": "code",
      "source": [
        "rumi = open(\"rumi.txt\", \"r\", encoding=\"utf-8\")\n",
        "print(rumi.read())\n",
        "rumi.close()"
      ],
      "metadata": {
        "colab": {
          "base_uri": "https://localhost:8080/"
        },
        "id": "NZ8dNMUOh52j",
        "outputId": "44694fb9-da4a-428b-9105-24f7ff197dd2"
      },
      "execution_count": 18,
      "outputs": [
        {
          "output_type": "stream",
          "name": "stdout",
          "text": [
            "I want to sing\n",
            "Like the birds sing,\n",
            "Not worrying about\n",
            "Who hears or\n",
            "What they think.\n"
          ]
        }
      ]
    },
    {
      "cell_type": "code",
      "source": [
        "rumi = open(\"rumi.txt\", \"r\", encoding=\"utf-8\")\n",
        "print(rumi.read(33))\n",
        "print(rumi.read(15))\n",
        "print(rumi.tell())\n",
        "\n",
        "rumi.close()"
      ],
      "metadata": {
        "colab": {
          "base_uri": "https://localhost:8080/"
        },
        "id": "v1lxqAk_h5zu",
        "outputId": "501b83e4-d866-4590-f959-47148f9cf820"
      },
      "execution_count": 19,
      "outputs": [
        {
          "output_type": "stream",
          "name": "stdout",
          "text": [
            "I want to sing\n",
            "Like the birds sin\n",
            "g,\n",
            "Not worrying\n",
            "50\n"
          ]
        }
      ]
    },
    {
      "cell_type": "code",
      "source": [
        "rumi = open(\"rumi.txt\", \"r\", encoding=\"utf-8\")\n",
        "print(rumi.read(35))\n",
        "print(rumi.read(13))\n",
        "print(rumi.tell())\n",
        "\n",
        "rumi.seek(15)\n",
        "print(rumi.read(21))\n",
        "\n",
        "\n",
        "rumi.close()"
      ],
      "metadata": {
        "colab": {
          "base_uri": "https://localhost:8080/"
        },
        "id": "PyKTW63Uh5xZ",
        "outputId": "d6605eca-18de-42aa-ef61-760e12b5287d"
      },
      "execution_count": 21,
      "outputs": [
        {
          "output_type": "stream",
          "name": "stdout",
          "text": [
            "I want to sing\n",
            "Like the birds sing,\n",
            "\n",
            "Not worrying\n",
            "50\n",
            "\n",
            "Like the birds sing,\n"
          ]
        }
      ]
    },
    {
      "cell_type": "code",
      "source": [
        "rumi = open(\"rumi.txt\", \"r\", encoding=\"utf-8\")\n",
        "print(rumi.read(35), rumi.read(13))\n",
        "print(rumi.tell())\n",
        "\n",
        "\n",
        "\n",
        "rumi.seek(15)\n",
        "print(rumi.read(21))\n",
        "\n",
        "\n",
        "rumi.close()"
      ],
      "metadata": {
        "colab": {
          "base_uri": "https://localhost:8080/"
        },
        "id": "lFZeLqH0h5vA",
        "outputId": "a234a006-6410-4be7-ed87-74c6be8d3594"
      },
      "execution_count": 23,
      "outputs": [
        {
          "output_type": "stream",
          "name": "stdout",
          "text": [
            "I want to sing\n",
            "Like the birds sing, \n",
            "Not worrying\n",
            "50\n",
            "\n",
            "Like the birds sing,\n"
          ]
        }
      ]
    },
    {
      "cell_type": "code",
      "source": [
        ""
      ],
      "metadata": {
        "id": "kLPpmLNHh5sn"
      },
      "execution_count": null,
      "outputs": []
    },
    {
      "cell_type": "code",
      "source": [
        ""
      ],
      "metadata": {
        "id": "qtNGjEEoh5p_"
      },
      "execution_count": null,
      "outputs": []
    },
    {
      "cell_type": "code",
      "source": [
        ""
      ],
      "metadata": {
        "id": "UGYrwW13h5nY"
      },
      "execution_count": null,
      "outputs": []
    },
    {
      "cell_type": "code",
      "source": [
        "print(\"ali\\nveli\\ndeli\")"
      ],
      "metadata": {
        "colab": {
          "base_uri": "https://localhost:8080/"
        },
        "id": "JYTiGI3cfvQ6",
        "outputId": "31d93104-eafe-4976-90f9-74583b634b34"
      },
      "execution_count": 4,
      "outputs": [
        {
          "output_type": "stream",
          "name": "stdout",
          "text": [
            "ali\n",
            "veli\n",
            "deli\n"
          ]
        }
      ]
    },
    {
      "cell_type": "code",
      "source": [
        "a = \"ali\\nveli\\ndeli\"\n",
        "print(a)"
      ],
      "metadata": {
        "colab": {
          "base_uri": "https://localhost:8080/"
        },
        "id": "cOMFl2UzgUW5",
        "outputId": "46782973-70f4-485d-cf9d-1000b69bc92c"
      },
      "execution_count": 6,
      "outputs": [
        {
          "output_type": "stream",
          "name": "stdout",
          "text": [
            "ali\n",
            "veli\n",
            "deli\n"
          ]
        }
      ]
    },
    {
      "cell_type": "code",
      "source": [
        "a = (\"ali\\nveli\\ndeli\",)\n",
        "print(a)"
      ],
      "metadata": {
        "colab": {
          "base_uri": "https://localhost:8080/"
        },
        "id": "hB01F8xhgfSH",
        "outputId": "83f3fd51-9533-4349-cc34-6873d21bc9e9"
      },
      "execution_count": 10,
      "outputs": [
        {
          "output_type": "stream",
          "name": "stdout",
          "text": [
            "('ali\\nveli\\ndeli',)\n"
          ]
        }
      ]
    },
    {
      "cell_type": "code",
      "source": [
        "sea = open(\"fishes.txt\", \"r\")\n",
        "print(sea.readline(13))\n",
        "print(sea.readline(13))\n",
        "print(sea.readline(13))\n",
        "print(sea.readline(13))\n",
        "\n",
        "sea.close()\n"
      ],
      "metadata": {
        "colab": {
          "base_uri": "https://localhost:8080/"
        },
        "id": "8C0d_ccQhWmI",
        "outputId": "e0d4cea9-9778-44df-d1b8-308fccbb0ccd"
      },
      "execution_count": 24,
      "outputs": [
        {
          "output_type": "stream",
          "name": "stdout",
          "text": [
            "Orca is a kin\n",
            "d of Dolphin.\n",
            "\n",
            "\n",
            "Blue Whale is\n"
          ]
        }
      ]
    },
    {
      "cell_type": "code",
      "source": [
        "sea = open(\"fishes.txt\", \"r\")\n",
        "\n",
        "part1 = sea.readline(13)\n",
        "part2 = sea.readline(13)\n",
        "part3 = sea.readline(13)\n",
        "part4 = sea.readline(13)\n",
        "\n",
        "sea.close()\n"
      ],
      "metadata": {
        "id": "b-NhMbBvtcwa"
      },
      "execution_count": 32,
      "outputs": []
    },
    {
      "cell_type": "code",
      "source": [
        "part1"
      ],
      "metadata": {
        "colab": {
          "base_uri": "https://localhost:8080/",
          "height": 36
        },
        "id": "3YUSIjNXttNV",
        "outputId": "4856b663-be41-4058-a11f-fa56cc6faf98"
      },
      "execution_count": 33,
      "outputs": [
        {
          "output_type": "execute_result",
          "data": {
            "application/vnd.google.colaboratory.intrinsic+json": {
              "type": "string"
            },
            "text/plain": [
              "'Orca is a kin'"
            ]
          },
          "metadata": {},
          "execution_count": 33
        }
      ]
    },
    {
      "cell_type": "code",
      "source": [
        "part2"
      ],
      "metadata": {
        "colab": {
          "base_uri": "https://localhost:8080/",
          "height": 36
        },
        "id": "4zWlEebdtzJR",
        "outputId": "8e05af6b-a1af-49e8-8283-645fa387d209"
      },
      "execution_count": 34,
      "outputs": [
        {
          "output_type": "execute_result",
          "data": {
            "application/vnd.google.colaboratory.intrinsic+json": {
              "type": "string"
            },
            "text/plain": [
              "'d of Dolphin.'"
            ]
          },
          "metadata": {},
          "execution_count": 34
        }
      ]
    },
    {
      "cell_type": "code",
      "source": [
        "part3"
      ],
      "metadata": {
        "colab": {
          "base_uri": "https://localhost:8080/",
          "height": 36
        },
        "id": "s29dzJDgt0kE",
        "outputId": "139a6598-dc48-4a9a-b900-158d257c9483"
      },
      "execution_count": 35,
      "outputs": [
        {
          "output_type": "execute_result",
          "data": {
            "application/vnd.google.colaboratory.intrinsic+json": {
              "type": "string"
            },
            "text/plain": [
              "'\\n'"
            ]
          },
          "metadata": {},
          "execution_count": 35
        }
      ]
    },
    {
      "cell_type": "code",
      "source": [
        "print(part3)"
      ],
      "metadata": {
        "colab": {
          "base_uri": "https://localhost:8080/"
        },
        "id": "eBerEqAMuBJe",
        "outputId": "a8cadd29-7f02-4fe7-d216-0612f3b91dd1"
      },
      "execution_count": 36,
      "outputs": [
        {
          "output_type": "stream",
          "name": "stdout",
          "text": [
            "\n",
            "\n"
          ]
        }
      ]
    },
    {
      "cell_type": "code",
      "source": [
        "first_line = part1 + part2 + part3\n",
        "first_line"
      ],
      "metadata": {
        "colab": {
          "base_uri": "https://localhost:8080/",
          "height": 36
        },
        "id": "SutIGa7BuFBB",
        "outputId": "032d8971-9a7f-436d-db31-41b654049933"
      },
      "execution_count": 37,
      "outputs": [
        {
          "output_type": "execute_result",
          "data": {
            "application/vnd.google.colaboratory.intrinsic+json": {
              "type": "string"
            },
            "text/plain": [
              "'Orca is a kind of Dolphin.\\n'"
            ]
          },
          "metadata": {},
          "execution_count": 37
        }
      ]
    },
    {
      "cell_type": "code",
      "source": [
        "sea = open(\"fishes.txt\", \"r\")\n",
        "print(sea.readline(1))\n",
        "sea.close()"
      ],
      "metadata": {
        "colab": {
          "base_uri": "https://localhost:8080/"
        },
        "id": "VNlcOeH_uL2L",
        "outputId": "750142f2-850b-4be9-c777-14edc5b87df0"
      },
      "execution_count": 41,
      "outputs": [
        {
          "output_type": "stream",
          "name": "stdout",
          "text": [
            "O\n"
          ]
        }
      ]
    },
    {
      "cell_type": "code",
      "source": [
        "sea = open(\"fishes.txt\", \"r\")\n",
        "print(sea.readline())\n",
        "sea.close()"
      ],
      "metadata": {
        "colab": {
          "base_uri": "https://localhost:8080/"
        },
        "id": "YdpOPvAluQYj",
        "outputId": "feae476e-ab35-4721-d695-f8ecbbc08f44"
      },
      "execution_count": 44,
      "outputs": [
        {
          "output_type": "stream",
          "name": "stdout",
          "text": [
            "Orca is a kind of Dolphin.\n",
            "\n"
          ]
        }
      ]
    },
    {
      "cell_type": "code",
      "source": [
        "rumi = open(\"rumi.txt\", \"r\", encoding=\"utf-8\")\n",
        "print(rumi.readline())\n",
        "print(rumi.tell())\n",
        "print(rumi.readline())\n",
        "print(rumi.tell())\n",
        "print(rumi.readline(20))\n",
        "rumi.close()"
      ],
      "metadata": {
        "id": "x-qKvyELuqXv"
      },
      "execution_count": null,
      "outputs": []
    },
    {
      "cell_type": "code",
      "source": [
        "rumi = open(\"rumi.txt\", \"r\")\n",
        "\n",
        "print(rumi.readline())\n",
        "print(rumi.readline())\n",
        "print(rumi.readline(19))\n",
        "\n",
        "rumi.close()\n",
        "\n"
      ],
      "metadata": {
        "colab": {
          "base_uri": "https://localhost:8080/"
        },
        "id": "27duM5xpv4KT",
        "outputId": "cbb10db8-c7b2-451c-ca18-4e5cc89b03b3"
      },
      "execution_count": 47,
      "outputs": [
        {
          "output_type": "stream",
          "name": "stdout",
          "text": [
            "I want to sing\n",
            "\n",
            "Like the birds sing,\n",
            "\n",
            "Not worrying about\n",
            "\n"
          ]
        }
      ]
    },
    {
      "cell_type": "code",
      "source": [
        "sea = open(\"fishes.txt\", \"r\")\n",
        "\n",
        "print(sea.readlines())\n",
        "\n",
        "sea.close()"
      ],
      "metadata": {
        "colab": {
          "base_uri": "https://localhost:8080/"
        },
        "id": "nblWyWtQwXiO",
        "outputId": "f8730bf8-8160-4629-9e08-6e57366e116e"
      },
      "execution_count": 48,
      "outputs": [
        {
          "output_type": "stream",
          "name": "stdout",
          "text": [
            "['Orca is a kind of Dolphin.\\n', 'Blue Whale is the largest animal known on earth.\\n', 'Sharks are the sister group to the Rays (batoids).\\n', 'The Tuna Fish can weigh up to 260 kg.\\n', 'Squid and Octopus are in the same class.']\n"
          ]
        }
      ]
    },
    {
      "cell_type": "code",
      "source": [
        "with open(\"fishes.txt\", \"r\") as file :\n",
        "  fish = file.readlines()\n",
        "\n"
      ],
      "metadata": {
        "id": "8OJDNezhw409"
      },
      "execution_count": 50,
      "outputs": []
    },
    {
      "cell_type": "code",
      "source": [
        "fish"
      ],
      "metadata": {
        "colab": {
          "base_uri": "https://localhost:8080/"
        },
        "id": "1oUdS2LDxC4T",
        "outputId": "dd25b8c2-62f8-48aa-cfb1-1d400fce1216"
      },
      "execution_count": 51,
      "outputs": [
        {
          "output_type": "execute_result",
          "data": {
            "text/plain": [
              "['Orca is a kind of Dolphin.\\n',\n",
              " 'Blue Whale is the largest animal known on earth.\\n',\n",
              " 'Sharks are the sister group to the Rays (batoids).\\n',\n",
              " 'The Tuna Fish can weigh up to 260 kg.\\n',\n",
              " 'Squid and Octopus are in the same class.']"
            ]
          },
          "metadata": {},
          "execution_count": 51
        }
      ]
    },
    {
      "cell_type": "code",
      "source": [
        "fish.append('Vedat Milor')\n",
        "fish"
      ],
      "metadata": {
        "colab": {
          "base_uri": "https://localhost:8080/"
        },
        "id": "jpdJo3X1xnUV",
        "outputId": "6c4c71d5-047b-42de-8396-4e0d53b679cb"
      },
      "execution_count": 52,
      "outputs": [
        {
          "output_type": "execute_result",
          "data": {
            "text/plain": [
              "['Orca is a kind of Dolphin.\\n',\n",
              " 'Blue Whale is the largest animal known on earth.\\n',\n",
              " 'Sharks are the sister group to the Rays (batoids).\\n',\n",
              " 'The Tuna Fish can weigh up to 260 kg.\\n',\n",
              " 'Squid and Octopus are in the same class.',\n",
              " 'Vedat Milor']"
            ]
          },
          "metadata": {},
          "execution_count": 52
        }
      ]
    },
    {
      "cell_type": "code",
      "source": [
        "for line in fish :\n",
        "  print(line)"
      ],
      "metadata": {
        "colab": {
          "base_uri": "https://localhost:8080/"
        },
        "id": "l_9vH7FNx0YV",
        "outputId": "e5a0c7b5-25a8-4285-e8d9-a2c473bd7142"
      },
      "execution_count": 53,
      "outputs": [
        {
          "output_type": "stream",
          "name": "stdout",
          "text": [
            "Orca is a kind of Dolphin.\n",
            "\n",
            "Blue Whale is the largest animal known on earth.\n",
            "\n",
            "Sharks are the sister group to the Rays (batoids).\n",
            "\n",
            "The Tuna Fish can weigh up to 260 kg.\n",
            "\n",
            "Squid and Octopus are in the same class.\n",
            "Vedat Milor\n"
          ]
        }
      ]
    },
    {
      "cell_type": "code",
      "source": [
        "with open(\"rumi.txt\", 'r') as file :\n",
        "  rumi = file.readlines()"
      ],
      "metadata": {
        "id": "0oojCxMqx67G"
      },
      "execution_count": 54,
      "outputs": []
    },
    {
      "cell_type": "code",
      "source": [
        "rumi"
      ],
      "metadata": {
        "colab": {
          "base_uri": "https://localhost:8080/"
        },
        "id": "aop4InT_yGiO",
        "outputId": "f6658343-1443-4604-be1d-1e3f50d1f045"
      },
      "execution_count": 55,
      "outputs": [
        {
          "output_type": "execute_result",
          "data": {
            "text/plain": [
              "['I want to sing\\n',\n",
              " 'Like the birds sing,\\n',\n",
              " 'Not worrying about\\n',\n",
              " 'Who hears or\\n',\n",
              " 'What they think.']"
            ]
          },
          "metadata": {},
          "execution_count": 55
        }
      ]
    },
    {
      "cell_type": "code",
      "source": [
        "with open(\"fishes.txt\", 'r') as file :\n",
        "  for line in file :\n",
        "    print(line)"
      ],
      "metadata": {
        "colab": {
          "base_uri": "https://localhost:8080/"
        },
        "id": "pec7r31XyHYx",
        "outputId": "4fbd61ec-aab4-49cb-c5bd-9f3b3e65201a"
      },
      "execution_count": 56,
      "outputs": [
        {
          "output_type": "stream",
          "name": "stdout",
          "text": [
            "Orca is a kind of Dolphin.\n",
            "\n",
            "Blue Whale is the largest animal known on earth.\n",
            "\n",
            "Sharks are the sister group to the Rays (batoids).\n",
            "\n",
            "The Tuna Fish can weigh up to 260 kg.\n",
            "\n",
            "Squid and Octopus are in the same class.\n"
          ]
        }
      ]
    },
    {
      "cell_type": "code",
      "source": [
        "file"
      ],
      "metadata": {
        "colab": {
          "base_uri": "https://localhost:8080/"
        },
        "id": "Ab20IhknyQu5",
        "outputId": "fefaa183-1a00-42dc-de29-6a3ee71a5e46"
      },
      "execution_count": 57,
      "outputs": [
        {
          "output_type": "execute_result",
          "data": {
            "text/plain": [
              "<_io.TextIOWrapper name='fishes.txt' mode='r' encoding='UTF-8'>"
            ]
          },
          "metadata": {},
          "execution_count": 57
        }
      ]
    },
    {
      "cell_type": "code",
      "source": [
        "file"
      ],
      "metadata": {
        "colab": {
          "base_uri": "https://localhost:8080/"
        },
        "id": "ZmNo6iAAyUwC",
        "outputId": "785f4a4c-b606-4622-e0d9-4d78450a4ba9"
      },
      "execution_count": 62,
      "outputs": [
        {
          "output_type": "execute_result",
          "data": {
            "text/plain": [
              "<_io.TextIOWrapper name='fishes.txt' mode='r' encoding='UTF-8'>"
            ]
          },
          "metadata": {},
          "execution_count": 62
        }
      ]
    },
    {
      "cell_type": "code",
      "source": [
        "with open(\"dummy_file.txt\", \"w\", encoding=\"utf-8\") as file :\n",
        "  file.write('This is the first line of my text file')\n",
        "\n",
        "with open(\"dummy_file.txt\", \"r\", encoding=\"utf-8\") as file :\n",
        "  print(file.read())"
      ],
      "metadata": {
        "colab": {
          "base_uri": "https://localhost:8080/"
        },
        "id": "Gnn3hlO6yWyt",
        "outputId": "c7c16b61-8a9e-4480-afe5-3a6501cd2187"
      },
      "execution_count": 63,
      "outputs": [
        {
          "output_type": "stream",
          "name": "stdout",
          "text": [
            "This is the first line of my text file\n"
          ]
        }
      ]
    },
    {
      "cell_type": "code",
      "source": [
        "with open(\"dummy_file.txt\", 'w', encoding=\"utf-8\") as file:\n",
        "    file.write('This is the new line for my dummy_file. ')  \n",
        "    # we write new str data into it \n",
        "\n",
        "with open(\"dummy_file.txt\", 'r', encoding=\"utf-8\") as file:\n",
        "    print(file.read())  # reads the content of the 'dummy_file'"
      ],
      "metadata": {
        "colab": {
          "base_uri": "https://localhost:8080/"
        },
        "id": "ZxndBPGk3pSV",
        "outputId": "933449fb-08f4-4df5-c338-09b8da682c51"
      },
      "execution_count": 66,
      "outputs": [
        {
          "output_type": "stream",
          "name": "stdout",
          "text": [
            "This is the new line for my dummy_file. \n"
          ]
        }
      ]
    },
    {
      "cell_type": "code",
      "source": [
        "with open(\"dummy_file.txt\", 'a', encoding=\"utf-8\") as file:\n",
        "    file.write('This is the new line for my dummy_file')  \n",
        "    # we write new str data into it \n",
        "\n",
        "with open(\"dummy_file.txt\", 'r', encoding=\"utf-8\") as file:\n",
        "    print(file.read())  # reads the content of the 'dummy_file'"
      ],
      "metadata": {
        "colab": {
          "base_uri": "https://localhost:8080/"
        },
        "id": "AH-WBaDg3_Ny",
        "outputId": "766d62b7-dc6c-4fd3-90ea-0a5ca6e74d1d"
      },
      "execution_count": 67,
      "outputs": [
        {
          "output_type": "stream",
          "name": "stdout",
          "text": [
            "This is the new line for my dummy_file. This is the new line for my dummy_file\n"
          ]
        }
      ]
    },
    {
      "cell_type": "code",
      "source": [
        "with open(\"dummy_file.txt\", \"w\", encoding=\"utf-8\") as file :\n",
        "  file.write('My first sentence')\n",
        "  file.write('My second sentence,')\n",
        "  file.write('My third sentence\\n')\n",
        "  file.write('My fourth sentence ')\n",
        "  file.write('My last sentence')\n",
        "with open(\"dummy_file.txt\", \"r\", encoding=\"utf-8\") as file :\n",
        "  print(file.read())"
      ],
      "metadata": {
        "colab": {
          "base_uri": "https://localhost:8080/"
        },
        "id": "J3IXaSjj4F8e",
        "outputId": "6481dc24-f5ec-4475-d86b-a4575166fd81"
      },
      "execution_count": 68,
      "outputs": [
        {
          "output_type": "stream",
          "name": "stdout",
          "text": [
            "My first sentenceMy second sentence,My third sentence\n",
            "My fourth sentence My last sentence\n"
          ]
        }
      ]
    },
    {
      "cell_type": "code",
      "source": [
        "fruits = ['Banana', 'Orange', 'Apple', 'Strawberry', 'Cherry']"
      ],
      "metadata": {
        "id": "6ZU5Lxg-5KMp"
      },
      "execution_count": 69,
      "outputs": []
    },
    {
      "cell_type": "code",
      "source": [
        "with open(\"fruits.txt\", \"w\", encoding=\"utf-8\") as dosyam :\n",
        "  for sepet in fruits :\n",
        "    dosyam.write(sepet + \"\\n\")\n",
        "with open(\"fruits.txt\", \"r\") as file :\n",
        "  print(file.read()  )"
      ],
      "metadata": {
        "colab": {
          "base_uri": "https://localhost:8080/"
        },
        "id": "3Qer_et95sgD",
        "outputId": "4664d68c-047a-4187-8f8f-a790020f0d88"
      },
      "execution_count": 71,
      "outputs": [
        {
          "output_type": "stream",
          "name": "stdout",
          "text": [
            "Banana\n",
            "Orange\n",
            "Apple\n",
            "Strawberry\n",
            "Cherry\n",
            "\n"
          ]
        }
      ]
    },
    {
      "cell_type": "code",
      "source": [
        "with open(\"istiklal.txt\", \"r\", encoding=\"utf-8\") as istiklal :\n",
        "  print(istiklal.read())\n"
      ],
      "metadata": {
        "colab": {
          "base_uri": "https://localhost:8080/"
        },
        "id": "2OZw4YPo6yGO",
        "outputId": "71253ea5-465a-4b53-fb70-4ca530bb12da"
      },
      "execution_count": 73,
      "outputs": [
        {
          "output_type": "stream",
          "name": "stdout",
          "text": [
            "Korkma, sönmez bu şafaklarda yüzen al sancak;\n",
            "Sönmeden yurdumun üstünde tüten en son ocak.\n",
            "O benim milletimin yıldızıdır, parlayacak;\n",
            "O benimdir, o benim milletimindir ancak.\n",
            "Çatma, kurban olayım, çehreni ey nazlı hilal!\n",
            "Kahraman ırkıma bir gül! Ne bu şiddet, bu celal?\n",
            "Sana olmaz dökülen kanlarımız sonra helal...\n",
            "Hakkıdır, hakk'a tapan, milletimin istiklal!\n",
            "Ben ezelden beridir hür yaşadım, hür yaşarım.\n",
            "Hangi çılgın bana zincir vuracakmış? Şaşarım!\n",
            "Kükremiş sel gibiyim, bendimi çiğner, aşarım.\n",
            "Yırtarım dağları, enginlere sığmam, taşarım.\n",
            "Garbın afakını sarmışsa çelik zırhlı duvar,\n",
            "Benim iman dolu göğsüm gibi serhaddim var.\n",
            "Ulusun, korkma! Nasıl böyle bir imanı boğar,\n",
            "'Medeniyet!' dediğin tek dişi kalmış canavar?\n",
            "Arkadaş! Yurduma alçakları uğratma, sakın.\n",
            "Siper et gövdeni, dursun bu hayasızca akın.\n",
            "Doğacaktır sana va'dettigi günler hakk'ın...\n",
            "Kim bilir, belki yarın, belki yarından da yakın.\n",
            "Bastığın yerleri 'toprak!' diyerek geçme, tanı:\n",
            "Düşün altında binlerce kefensiz yatanı.\n",
            "Sen şehit oğlusun, incitme, yazıktır, atanı:\n",
            "Verme, dünyaları alsan da, bu cennet vatanı.\n",
            "Kim bu cennet vatanın uğruna olmaz ki feda?\n",
            "Şuheda fışkıracak toprağı sıksan, şuheda!\n",
            "Canı, cananı, bütün varımı alsın da hüda,\n",
            "Etmesin tek vatanımdan beni dünyada cüda.\n",
            "Ruhumun senden, ilahi, şudur ancak emeli:\n",
            "Değmesin mabedimin göğsüne namahrem eli.\n",
            "Bu ezanlar-ki şahadetleri dinin temeli,\n",
            "Ebedi yurdumun üstünde benim inlemeli.\n",
            "\n"
          ]
        }
      ]
    },
    {
      "cell_type": "code",
      "source": [
        "with open(\"istiklal.txt\", \"w\", encoding=\"utf-8\") as file :\n",
        "   file.write(\"\"\"Korkma, sönmez bu şafaklarda yüzen al sancak;\n",
        "Sönmeden yurdumun üstünde tüten en son ocak.\n",
        "O benim milletimin yıldızıdır, parlayacak;\n",
        "O benimdir, o benim milletimindir ancak.\n",
        "Çatma, kurban olayım, çehreni ey nazlı hilal!\n",
        "Kahraman ırkıma bir gül! Ne bu şiddet, bu celal?\n",
        "Sana olmaz dökülen kanlarımız sonra helal...\n",
        "Hakkıdır, hakk'a tapan, milletimin istiklal!\n",
        "Ben ezelden beridir hür yaşadım, hür yaşarım.\n",
        "Hangi çılgın bana zincir vuracakmış? Şaşarım!\n",
        "Kükremiş sel gibiyim, bendimi çiğner, aşarım.\n",
        "Yırtarım dağları, enginlere sığmam, taşarım.\n",
        "Garbın afakını sarmışsa çelik zırhlı duvar,\n",
        "Benim iman dolu göğsüm gibi serhaddim var.\n",
        "Ulusun, korkma! Nasıl böyle bir imanı boğar,\n",
        "'Medeniyet!' dediğin tek dişi kalmış canavar?\n",
        "Arkadaş! Yurduma alçakları uğratma, sakın.\n",
        "Siper et gövdeni, dursun bu hayasızca akın.\n",
        "Doğacaktır sana va'dettigi günler hakk'ın...\n",
        "Kim bilir, belki yarın, belki yarından da yakın.\n",
        "Bastığın yerleri 'toprak!' diyerek geçme, tanı:\n",
        "Düşün altında binlerce kefensiz yatanı.\n",
        "Sen şehit oğlusun, incitme, yazıktır, atanı:\n",
        "Verme, dünyaları alsan da, bu cennet vatanı.\n",
        "Kim bu cennet vatanın uğruna olmaz ki feda?\n",
        "Şuheda fışkıracak toprağı sıksan, şuheda!\n",
        "Canı, cananı, bütün varımı alsın da hüda,\n",
        "Etmesin tek vatanımdan beni dünyada cüda.\n",
        "Ruhumun senden, ilahi, şudur ancak emeli:\n",
        "Değmesin mabedimin göğsüne namahrem eli.\n",
        "Bu ezanlar-ki şahadetleri dinin temeli,\n",
        "Ebedi yurdumun üstünde benim inlemeli.\"\"\")\n",
        "\n",
        "\n",
        "\n"
      ],
      "metadata": {
        "colab": {
          "base_uri": "https://localhost:8080/",
          "height": 245
        },
        "id": "QIIzLIvW9XXF",
        "outputId": "7347d070-83c4-4a26-c89e-95b8ec20bf4e"
      },
      "execution_count": 85,
      "outputs": [
        {
          "output_type": "error",
          "ename": "ValueError",
          "evalue": "ignored",
          "traceback": [
            "\u001b[0;31m---------------------------------------------------------------------------\u001b[0m",
            "\u001b[0;31mValueError\u001b[0m                                Traceback (most recent call last)",
            "\u001b[0;32m<ipython-input-85-17074ae15d1a>\u001b[0m in \u001b[0;36m<module>\u001b[0;34m()\u001b[0m\n\u001b[1;32m     33\u001b[0m Ebedi yurdumun üstünde benim inlemeli.\"\"\")\n\u001b[1;32m     34\u001b[0m \u001b[0;34m\u001b[0m\u001b[0m\n\u001b[0;32m---> 35\u001b[0;31m \u001b[0mprint\u001b[0m\u001b[0;34m(\u001b[0m\u001b[0mfile\u001b[0m\u001b[0;34m.\u001b[0m\u001b[0mreadline\u001b[0m\u001b[0;34m(\u001b[0m\u001b[0;34m)\u001b[0m\u001b[0;34m)\u001b[0m\u001b[0;34m\u001b[0m\u001b[0;34m\u001b[0m\u001b[0m\n\u001b[0m\u001b[1;32m     36\u001b[0m \u001b[0;34m\u001b[0m\u001b[0m\n\u001b[1;32m     37\u001b[0m \u001b[0;34m\u001b[0m\u001b[0m\n",
            "\u001b[0;31mValueError\u001b[0m: I/O operation on closed file."
          ]
        }
      ]
    },
    {
      "cell_type": "code",
      "source": [
        "with open(\"istiklal.txt\", \"r\", encoding=\"utf-8\") as file :\n",
        "  print(file.readlines())"
      ],
      "metadata": {
        "colab": {
          "base_uri": "https://localhost:8080/"
        },
        "id": "8tHS_KiV-nDX",
        "outputId": "785e6367-941e-4cdf-b868-31af57f706e7"
      },
      "execution_count": 87,
      "outputs": [
        {
          "output_type": "stream",
          "name": "stdout",
          "text": [
            "['Korkma, sönmez bu şafaklarda yüzen al sancak;\\n', 'Sönmeden yurdumun üstünde tüten en son ocak.\\n', 'O benim milletimin yıldızıdır, parlayacak;\\n', 'O benimdir, o benim milletimindir ancak.\\n', 'Çatma, kurban olayım, çehreni ey nazlı hilal!\\n', 'Kahraman ırkıma bir gül! Ne bu şiddet, bu celal?\\n', 'Sana olmaz dökülen kanlarımız sonra helal...\\n', \"Hakkıdır, hakk'a tapan, milletimin istiklal!\\n\", 'Ben ezelden beridir hür yaşadım, hür yaşarım.\\n', 'Hangi çılgın bana zincir vuracakmış? Şaşarım!\\n', 'Kükremiş sel gibiyim, bendimi çiğner, aşarım.\\n', 'Yırtarım dağları, enginlere sığmam, taşarım.\\n', 'Garbın afakını sarmışsa çelik zırhlı duvar,\\n', 'Benim iman dolu göğsüm gibi serhaddim var.\\n', 'Ulusun, korkma! Nasıl böyle bir imanı boğar,\\n', \"'Medeniyet!' dediğin tek dişi kalmış canavar?\\n\", 'Arkadaş! Yurduma alçakları uğratma, sakın.\\n', 'Siper et gövdeni, dursun bu hayasızca akın.\\n', \"Doğacaktır sana va'dettigi günler hakk'ın...\\n\", 'Kim bilir, belki yarın, belki yarından da yakın.\\n', \"Bastığın yerleri 'toprak!' diyerek geçme, tanı:\\n\", 'Düşün altında binlerce kefensiz yatanı.\\n', 'Sen şehit oğlusun, incitme, yazıktır, atanı:\\n', 'Verme, dünyaları alsan da, bu cennet vatanı.\\n', 'Kim bu cennet vatanın uğruna olmaz ki feda?\\n', 'Şuheda fışkıracak toprağı sıksan, şuheda!\\n', 'Canı, cananı, bütün varımı alsın da hüda,\\n', 'Etmesin tek vatanımdan beni dünyada cüda.\\n', 'Ruhumun senden, ilahi, şudur ancak emeli:\\n', 'Değmesin mabedimin göğsüne namahrem eli.\\n', 'Bu ezanlar-ki şahadetleri dinin temeli,\\n', 'Ebedi yurdumun üstünde benim inlemeli.']\n"
          ]
        }
      ]
    },
    {
      "cell_type": "code",
      "source": [
        "with open(\"istiklal.txt\", \"r\", encoding=\"utf-8\") as file :\n",
        "  lines = file.readlines()\n",
        "print(lines)"
      ],
      "metadata": {
        "colab": {
          "base_uri": "https://localhost:8080/"
        },
        "id": "07tmZtZiBHS4",
        "outputId": "4ce1946a-f82d-4ddd-e35c-32c3833ee40e"
      },
      "execution_count": 88,
      "outputs": [
        {
          "output_type": "stream",
          "name": "stdout",
          "text": [
            "['Korkma, sönmez bu şafaklarda yüzen al sancak;\\n', 'Sönmeden yurdumun üstünde tüten en son ocak.\\n', 'O benim milletimin yıldızıdır, parlayacak;\\n', 'O benimdir, o benim milletimindir ancak.\\n', 'Çatma, kurban olayım, çehreni ey nazlı hilal!\\n', 'Kahraman ırkıma bir gül! Ne bu şiddet, bu celal?\\n', 'Sana olmaz dökülen kanlarımız sonra helal...\\n', \"Hakkıdır, hakk'a tapan, milletimin istiklal!\\n\", 'Ben ezelden beridir hür yaşadım, hür yaşarım.\\n', 'Hangi çılgın bana zincir vuracakmış? Şaşarım!\\n', 'Kükremiş sel gibiyim, bendimi çiğner, aşarım.\\n', 'Yırtarım dağları, enginlere sığmam, taşarım.\\n', 'Garbın afakını sarmışsa çelik zırhlı duvar,\\n', 'Benim iman dolu göğsüm gibi serhaddim var.\\n', 'Ulusun, korkma! Nasıl böyle bir imanı boğar,\\n', \"'Medeniyet!' dediğin tek dişi kalmış canavar?\\n\", 'Arkadaş! Yurduma alçakları uğratma, sakın.\\n', 'Siper et gövdeni, dursun bu hayasızca akın.\\n', \"Doğacaktır sana va'dettigi günler hakk'ın...\\n\", 'Kim bilir, belki yarın, belki yarından da yakın.\\n', \"Bastığın yerleri 'toprak!' diyerek geçme, tanı:\\n\", 'Düşün altında binlerce kefensiz yatanı.\\n', 'Sen şehit oğlusun, incitme, yazıktır, atanı:\\n', 'Verme, dünyaları alsan da, bu cennet vatanı.\\n', 'Kim bu cennet vatanın uğruna olmaz ki feda?\\n', 'Şuheda fışkıracak toprağı sıksan, şuheda!\\n', 'Canı, cananı, bütün varımı alsın da hüda,\\n', 'Etmesin tek vatanımdan beni dünyada cüda.\\n', 'Ruhumun senden, ilahi, şudur ancak emeli:\\n', 'Değmesin mabedimin göğsüne namahrem eli.\\n', 'Bu ezanlar-ki şahadetleri dinin temeli,\\n', 'Ebedi yurdumun üstünde benim inlemeli.']\n"
          ]
        }
      ]
    },
    {
      "cell_type": "code",
      "source": [
        "with open(\"istiklal.txt\", \"w\", encoding=\"utf-8\") as file :\n",
        "  counter = 0\n",
        "  for i in lines :\n",
        "    counter += 1\n",
        "    if counter % 4 == 0 :\n",
        "      file.write(i + '\\n')\n",
        "    else :\n",
        "      file.write(i)\n",
        "with open(\"istiklal.txt\", \"r\", encoding=\"utf-8\") as file :\n",
        "  print(file.read())"
      ],
      "metadata": {
        "colab": {
          "base_uri": "https://localhost:8080/"
        },
        "id": "u51DdjaeBUXF",
        "outputId": "3e26252e-b9b6-4934-c3e8-909984e03ff5"
      },
      "execution_count": 89,
      "outputs": [
        {
          "output_type": "stream",
          "name": "stdout",
          "text": [
            "Korkma, sönmez bu şafaklarda yüzen al sancak;\n",
            "Sönmeden yurdumun üstünde tüten en son ocak.\n",
            "O benim milletimin yıldızıdır, parlayacak;\n",
            "O benimdir, o benim milletimindir ancak.\n",
            "\n",
            "Çatma, kurban olayım, çehreni ey nazlı hilal!\n",
            "Kahraman ırkıma bir gül! Ne bu şiddet, bu celal?\n",
            "Sana olmaz dökülen kanlarımız sonra helal...\n",
            "Hakkıdır, hakk'a tapan, milletimin istiklal!\n",
            "\n",
            "Ben ezelden beridir hür yaşadım, hür yaşarım.\n",
            "Hangi çılgın bana zincir vuracakmış? Şaşarım!\n",
            "Kükremiş sel gibiyim, bendimi çiğner, aşarım.\n",
            "Yırtarım dağları, enginlere sığmam, taşarım.\n",
            "\n",
            "Garbın afakını sarmışsa çelik zırhlı duvar,\n",
            "Benim iman dolu göğsüm gibi serhaddim var.\n",
            "Ulusun, korkma! Nasıl böyle bir imanı boğar,\n",
            "'Medeniyet!' dediğin tek dişi kalmış canavar?\n",
            "\n",
            "Arkadaş! Yurduma alçakları uğratma, sakın.\n",
            "Siper et gövdeni, dursun bu hayasızca akın.\n",
            "Doğacaktır sana va'dettigi günler hakk'ın...\n",
            "Kim bilir, belki yarın, belki yarından da yakın.\n",
            "\n",
            "Bastığın yerleri 'toprak!' diyerek geçme, tanı:\n",
            "Düşün altında binlerce kefensiz yatanı.\n",
            "Sen şehit oğlusun, incitme, yazıktır, atanı:\n",
            "Verme, dünyaları alsan da, bu cennet vatanı.\n",
            "\n",
            "Kim bu cennet vatanın uğruna olmaz ki feda?\n",
            "Şuheda fışkıracak toprağı sıksan, şuheda!\n",
            "Canı, cananı, bütün varımı alsın da hüda,\n",
            "Etmesin tek vatanımdan beni dünyada cüda.\n",
            "\n",
            "Ruhumun senden, ilahi, şudur ancak emeli:\n",
            "Değmesin mabedimin göğsüne namahrem eli.\n",
            "Bu ezanlar-ki şahadetleri dinin temeli,\n",
            "Ebedi yurdumun üstünde benim inlemeli.\n",
            "\n"
          ]
        }
      ]
    },
    {
      "cell_type": "code",
      "source": [
        ""
      ],
      "metadata": {
        "id": "_a642B4HB3n5"
      },
      "execution_count": null,
      "outputs": []
    }
  ]
}