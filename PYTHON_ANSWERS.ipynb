{
  "nbformat": 4,
  "nbformat_minor": 0,
  "metadata": {
    "colab": {
      "name": "PYTHON_ANSWERS.ipynb",
      "provenance": [],
      "collapsed_sections": [],
      "authorship_tag": "ABX9TyMriw1RA2CIiLLQeU73AqwX",
      "include_colab_link": true
    },
    "kernelspec": {
      "name": "python3",
      "display_name": "Python 3"
    },
    "language_info": {
      "name": "python"
    }
  },
  "cells": [
    {
      "cell_type": "markdown",
      "metadata": {
        "id": "view-in-github",
        "colab_type": "text"
      },
      "source": [
        "<a href=\"https://colab.research.google.com/github/dsdnmstf/Python-Questions/blob/master/PYTHON_ANSWERS.ipynb\" target=\"_parent\"><img src=\"https://colab.research.google.com/assets/colab-badge.svg\" alt=\"Open In Colab\"/></a>"
      ]
    },
    {
      "cell_type": "code",
      "source": [
        "def countLetter():\n",
        "  countVovel = 0\n",
        "  countConstant = 0\n",
        "  string = input('Please enter your expression :')\n",
        "  vovel = 'aeioöuü'\n",
        "  constant = 'bcdfghlklmnpqrstvwxyz'\n",
        "  for i in string :\n",
        "    if i.lower() in vovel :\n",
        "      countVovel += 1\n",
        "    elif i.lower() in constant :\n",
        "      countConstant += 1\n",
        "  print(f\"The number of vovel ist : {countVovel}\")\n",
        "  print(f\"The number of constant ist : {countConstant}\")\n"
      ],
      "metadata": {
        "id": "vabvglfNE6JF"
      },
      "execution_count": null,
      "outputs": []
    },
    {
      "cell_type": "code",
      "source": [
        "countLetter()"
      ],
      "metadata": {
        "colab": {
          "base_uri": "https://localhost:8080/"
        },
        "id": "a26DnPQb_IOC",
        "outputId": "5de06164-bf40-45f3-bcab-01742851d3a3"
      },
      "execution_count": null,
      "outputs": [
        {
          "output_type": "stream",
          "name": "stdout",
          "text": [
            "Please enter your expression :I like Clarusway\n",
            "The number of vovel ist : 6\n",
            "The number of constant ist : 8\n"
          ]
        }
      ]
    },
    {
      "cell_type": "code",
      "source": [
        "my_list = [999, 333, 2, 8982, 12, 45, 77, 99, 11]\n",
        "new_list = []\n",
        "\n",
        "while my_list:\n",
        "    min = my_list[0]  \n",
        "    for x in my_list: \n",
        "        if x < min:\n",
        "            min = x\n",
        "    new_list.append(min)\n",
        "    my_list.remove(min)    \n",
        "\n",
        "print(new_list)"
      ],
      "metadata": {
        "id": "azMpNivG_LjW",
        "colab": {
          "base_uri": "https://localhost:8080/"
        },
        "outputId": "83eb8586-ce4c-49b2-f6b6-bea0adf9e867"
      },
      "execution_count": 3,
      "outputs": [
        {
          "output_type": "stream",
          "name": "stdout",
          "text": [
            "[2, 11, 12, 45, 77, 99, 333, 999, 8982]\n"
          ]
        }
      ]
    },
    {
      "cell_type": "code",
      "source": [
        ""
      ],
      "metadata": {
        "id": "qQMIiqChfa4k"
      },
      "execution_count": null,
      "outputs": []
    }
  ]
}